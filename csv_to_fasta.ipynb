{
 "cells": [
  {
   "cell_type": "markdown",
   "metadata": {},
   "source": [
    "## Convert csv to fasta\n",
    "\n",
    "Jacob L. Fine\n",
    "\n",
    "This script converts tabulated name-sequence pairs into a fasta file."
   ]
  },
  {
   "cell_type": "code",
   "execution_count": 4,
   "metadata": {},
   "outputs": [
    {
     "name": "stdout",
     "output_type": "stream",
     "text": [
      ">Sequence_1\n",
      "ATGAGACGCAGAGGG\n",
      ">Sequence_2\n",
      "ATGGCAGCACAGCGCCCGC\n",
      ">Sequence_3\n",
      "ATCGATCGACGAGCG\n",
      "\n"
     ]
    }
   ],
   "source": [
    "import pandas as pd\n",
    "\n",
    "# example dictionary of name-sequence pairs, representing a .csv file. \n",
    "# Can input real .csv file and use pd.read_csv\n",
    "data = {'name': ['Sequence_1', 'Sequence_2', 'Sequence_3'],\n",
    "        'sequence': ['ATGAGACGCAGAGGG', 'ATGGCAGCACAGCGCCCGC', 'ATCGATCGACGAGCG']}\n",
    "df = pd.DataFrame(data)\n",
    "\n",
    "# the function that converts the name-sequence pairs into a fasta file\n",
    "def df_to_fasta(name_seq_pair_file, fasta_file):\n",
    "    with open(fasta_file, 'w') as f:  # opens up a fasta file to write it\n",
    "        for index, row in name_seq_pair_file.iterrows():  # iterates through the name-sequence pairs\n",
    "            f.write(f'>{row[\"name\"]}\\n{row[\"sequence\"]}\\n')  # writes lines in the file based on the name and sequence\n",
    "\n",
    "# calls the function to produce the output file\n",
    "df_to_fasta(df, 'sequences.fsa')\n",
    "\n",
    "# reads the contents of the file\n",
    "with open('sequences.fsa', 'r') as f:\n",
    "    fasta_file_contents = f.read()\n",
    "\n",
    "# prints the contents\n",
    "print(fasta_file_contents)"
   ]
  }
 ],
 "metadata": {
  "kernelspec": {
   "display_name": "Python 3",
   "language": "python",
   "name": "python3"
  },
  "language_info": {
   "codemirror_mode": {
    "name": "ipython",
    "version": 3
   },
   "file_extension": ".py",
   "mimetype": "text/x-python",
   "name": "python",
   "nbconvert_exporter": "python",
   "pygments_lexer": "ipython3",
   "version": "3.9.6"
  }
 },
 "nbformat": 4,
 "nbformat_minor": 2
}
