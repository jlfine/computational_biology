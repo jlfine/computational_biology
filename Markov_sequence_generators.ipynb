{
 "cells": [
  {
   "cell_type": "markdown",
   "metadata": {},
   "source": [
    "## Generating random sequences from a probability mass function, a Markov chain, and a hidden Markov model\n",
    "\n",
    "Jacob L. Fine\n",
    "\n",
    "May 1st, 2024\n",
    "\n",
    "This program is a demonstration of potential data generating mechanisms of DNA/RNA in this work of biological sequence analysis."
   ]
  },
  {
   "cell_type": "markdown",
   "metadata": {},
   "source": [
    "The code below generates a sample sequence using a single probability mass function (PMF)"
   ]
  },
  {
   "cell_type": "code",
   "execution_count": 1,
   "metadata": {},
   "outputs": [
    {
     "name": "stdout",
     "output_type": "stream",
     "text": [
      "sequence (pmf):\n",
      "CGGAGCCGTGGCCGGCCCAC\n"
     ]
    }
   ],
   "source": [
    "import random\n",
    "\n",
    "random.seed(101010)\n",
    "\n",
    "# defines the PMF of nucleotides\n",
    "bases = {'A': 0.2,'T': 0.2,'C': 0.3,'G': 0.3}\n",
    "\n",
    "# generates the sequence by drawing from the PMF\n",
    "def seq_generator():\n",
    "    base = random.choices(list(bases.keys()),list(bases.values()),k=20)\n",
    "    print('sequence (pmf):')\n",
    "    print(''.join(base))\n",
    "\n",
    "\n",
    "seq_generator()"
   ]
  },
  {
   "cell_type": "markdown",
   "metadata": {},
   "source": [
    "The code below generates a sample sequence using a Markov chain, with conditional probabilities of emitting bases"
   ]
  },
  {
   "cell_type": "code",
   "execution_count": 2,
   "metadata": {},
   "outputs": [
    {
     "name": "stdout",
     "output_type": "stream",
     "text": [
      "sequence (Markov chain):\n",
      "ACCCTGCCCCCGCCCCCCCT\n"
     ]
    }
   ],
   "source": [
    "import random\n",
    "\n",
    "random.seed(101010)\n",
    "\n",
    "# prob that next state is A given current state is A, using a nested dictionary\n",
    "bases = {\n",
    "    'A': {'A': 0.2,'T': 0.2,'C': 0.3,'G': 0.3},\n",
    "    'T': {'A': 0.3,'T': 0.3,'C': 0.2,'G': 0.2},\n",
    "    'C': {'A': 0.05,'T': 0.05,'C': 0.8,'G': 0.1},\n",
    "    'G': {'A': 0.3,'T': 0.2,'C': 0.2,'G': 0.3}\n",
    "}\n",
    "\n",
    "\n",
    "def markov_seq_generator(length, initial_state):\n",
    "    states = list(bases.keys())\n",
    "    state = initial_state\n",
    "    sequence = [state]\n",
    "    \n",
    "    for _ in range(length - 1):\n",
    "        next_state = random.choices(states, weights=bases[state].values())[0]\n",
    "        sequence.append(next_state)\n",
    "        state = next_state\n",
    "    print('sequence (Markov chain):')\n",
    "    return ''.join(sequence)\n",
    "\n",
    "generated_sequence = markov_seq_generator(20, 'A')  # Change the length and initial state as needed\n",
    "print(generated_sequence)\n"
   ]
  },
  {
   "cell_type": "markdown",
   "metadata": {},
   "source": [
    "The code below generates a sample sequence using a hidden Markov model (HMM), specified by emission and transition probs. "
   ]
  },
  {
   "cell_type": "code",
   "execution_count": 4,
   "metadata": {},
   "outputs": [
    {
     "name": "stdout",
     "output_type": "stream",
     "text": [
      "sequence (HMM):\n",
      "TGCTAGTGCACGAGCTCTCA\n"
     ]
    }
   ],
   "source": [
    "import random\n",
    "random.seed(101010)\n",
    "\n",
    "# emission probability matrix\n",
    "state1_emission = {'A': 0.4, 'T': 0.3, 'C': 0.2, 'G': 0.1}\n",
    "state2_emission = {'A': 0.1, 'T': 0.2, 'C': 0.3, 'G': 0.4}\n",
    "\n",
    "# transition probability matrix\n",
    "transition_prob = {'1_to_1': 0.8, '1_to_2': 0.2,\n",
    "                   '2_to_1': 0.4, '2_to_2': 0.6}\n",
    "\n",
    "# generate the hmm\n",
    "def hmm_seq_generator(length):\n",
    "    state = 'state1'  # initialize state to state 1\n",
    "    sequence = []\n",
    "\n",
    "    for _ in range(length):\n",
    "        # emit a base based on the current state's associated emission PMF\n",
    "        if state == 'state1':\n",
    "            base = random.choices(list(state1_emission.keys()), weights=list(state1_emission.values()))[0]\n",
    "        else:\n",
    "            base = random.choices(list(state2_emission.keys()), weights=list(state2_emission.values()))[0]\n",
    "        sequence.append(base)\n",
    "\n",
    "        # transition to the next state based on probability matrix\n",
    "        if state == 'state1':\n",
    "            state = random.choices(['state1', 'state2'], weights=[transition_prob['1_to_1'], transition_prob['1_to_2']])[0]\n",
    "        else:\n",
    "            state = random.choices(['state1', 'state2'], weights=[transition_prob['2_to_1'], transition_prob['2_to_2']])[0]\n",
    "\n",
    "    print('sequence (HMM):')\n",
    "        # join the sequence, initially a list\n",
    "    return ''.join(sequence)\n",
    "\n",
    "generated_sequence = hmm_seq_generator(20)  # generate a sample sequence, here of length 20\n",
    "print(generated_sequence)\n"
   ]
  }
 ],
 "metadata": {
  "kernelspec": {
   "display_name": "Python 3",
   "language": "python",
   "name": "python3"
  },
  "language_info": {
   "codemirror_mode": {
    "name": "ipython",
    "version": 3
   },
   "file_extension": ".py",
   "mimetype": "text/x-python",
   "name": "python",
   "nbconvert_exporter": "python",
   "pygments_lexer": "ipython3",
   "version": "3.9.6"
  }
 },
 "nbformat": 4,
 "nbformat_minor": 2
}
